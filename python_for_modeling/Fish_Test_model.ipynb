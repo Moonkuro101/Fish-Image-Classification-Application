{
 "cells": [
  {
   "cell_type": "code",
   "execution_count": 1,
   "metadata": {},
   "outputs": [],
   "source": [
    "import tensorflow as tf\n",
    "from PIL import Image\n",
    "import numpy as np\n",
    "\n",
    "# Load the TFLite model\n"
   ]
  },
  {
   "cell_type": "code",
   "execution_count": 2,
   "metadata": {},
   "outputs": [],
   "source": [
    "model_path = './model/Fish_use.tflite'\n",
    "interpreter = tf.lite.Interpreter(model_path=model_path)\n",
    "interpreter.allocate_tensors()\n",
    "\n",
    "# Get input and output tensors\n",
    "input_details = interpreter.get_input_details()\n",
    "output_details = interpreter.get_output_details()\n",
    "\n",
    "def preprocess_image(image_path, input_shape):\n",
    "    image = Image.open(image_path).convert('RGB')\n",
    "    image = image.resize((input_shape[1], input_shape[2]))\n",
    "    image = np.array(image, dtype=np.float32)\n",
    "    image = image / 127.5 - 1  # Normalization\n",
    "    return image\n",
    "\n",
    "# Assuming the input shape is [1, 224, 224, 3]\n",
    "input_shape = input_details[0]['shape']"
   ]
  },
  {
   "cell_type": "code",
   "execution_count": 3,
   "metadata": {},
   "outputs": [
    {
     "name": "stdout",
     "output_type": "stream",
     "text": [
      "Predicted class: 14, Confidence: 0.84\n"
     ]
    }
   ],
   "source": [
    "\n",
    "\n",
    "# Corrected file path\n",
    "image_path = r\"D:\\Projuct_\\Project_code\\python_for_modeling\\image_data\\database5\\Fish_Dataset\\catfish\\Acanthodoras-cataphractus-Steve-Grant.jpg\"\n",
    "\n",
    "input_data = preprocess_image(image_path, input_shape)\n",
    "input_data = np.expand_dims(input_data, axis=0)  # Add batch dimension\n",
    "\n",
    "# Set the tensor to point to the input data to be inferred\n",
    "interpreter.set_tensor(input_details[0]['index'], input_data)\n",
    "\n",
    "# Run inference\n",
    "interpreter.invoke()\n",
    "\n",
    "# Get the results\n",
    "output_data = interpreter.get_tensor(output_details[0]['index'])\n",
    "\n",
    "# Assuming the model outputs probabilities for 9 classes\n",
    "output_data = np.squeeze(output_data)\n",
    "predicted_class = np.argmax(output_data)\n",
    "confidence = output_data[predicted_class]\n",
    "\n",
    "print(f'Predicted class: {predicted_class}, Confidence: {confidence:.2f}')\n"
   ]
  },
  {
   "cell_type": "code",
   "execution_count": 4,
   "metadata": {},
   "outputs": [
    {
     "name": "stdout",
     "output_type": "stream",
     "text": [
      "Predicted class: 3, Confidence: 0.98\n"
     ]
    }
   ],
   "source": [
    "\n",
    "image_path = r\"D:\\Projuct_\\Project_code\\python_for_modeling\\organized_data\\test\\Hourse Mackerel\\00839.png\"\n",
    "\n",
    "input_data = preprocess_image(image_path, input_shape)\n",
    "input_data = np.expand_dims(input_data, axis=0)  # Add batch dimension\n",
    "\n",
    "# Set the tensor to point to the input data to be inferred\n",
    "interpreter.set_tensor(input_details[0]['index'], input_data)\n",
    "\n",
    "# Run inference\n",
    "interpreter.invoke()\n",
    "\n",
    "# Get the results\n",
    "output_data = interpreter.get_tensor(output_details[0]['index'])\n",
    "\n",
    "# Assuming the model outputs probabilities for 9 classes\n",
    "output_data = np.squeeze(output_data)\n",
    "predicted_class = np.argmax(output_data)\n",
    "confidence = output_data[predicted_class]\n",
    "\n",
    "print(f'Predicted class: {predicted_class}, Confidence: {confidence:.2f}')\n"
   ]
  },
  {
   "cell_type": "code",
   "execution_count": 5,
   "metadata": {},
   "outputs": [
    {
     "name": "stdout",
     "output_type": "stream",
     "text": [
      "Predicted class: 17, Confidence: 0.96\n"
     ]
    }
   ],
   "source": [
    "image_path = r\"D:\\Projuct_\\Project_code\\python_for_modeling\\image_data\\database5\\Fish_Dataset\\swordfish\\Xiphias_gladius_2.jpg\"\n",
    "\n",
    "input_data = preprocess_image(image_path, input_shape)\n",
    "input_data = np.expand_dims(input_data, axis=0)  # Add batch dimension\n",
    "\n",
    "# Set the tensor to point to the input data to be inferred\n",
    "interpreter.set_tensor(input_details[0]['index'], input_data)\n",
    "\n",
    "# Run inference\n",
    "interpreter.invoke()\n",
    "\n",
    "# Get the results\n",
    "output_data = interpreter.get_tensor(output_details[0]['index'])\n",
    "\n",
    "# Assuming the model outputs probabilities for 9 classes\n",
    "output_data = np.squeeze(output_data)\n",
    "predicted_class = np.argmax(output_data)\n",
    "confidence = output_data[predicted_class]\n",
    "\n",
    "print(f'Predicted class: {predicted_class}, Confidence: {confidence:.2f}')\n"
   ]
  },
  {
   "cell_type": "code",
   "execution_count": null,
   "metadata": {},
   "outputs": [],
   "source": []
  }
 ],
 "metadata": {
  "kernelspec": {
   "display_name": "Python 3",
   "language": "python",
   "name": "python3"
  },
  "language_info": {
   "codemirror_mode": {
    "name": "ipython",
    "version": 3
   },
   "file_extension": ".py",
   "mimetype": "text/x-python",
   "name": "python",
   "nbconvert_exporter": "python",
   "pygments_lexer": "ipython3",
   "version": "3.11.9"
  }
 },
 "nbformat": 4,
 "nbformat_minor": 2
}
